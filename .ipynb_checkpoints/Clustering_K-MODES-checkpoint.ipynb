{
 "cells": [
  {
   "cell_type": "code",
   "execution_count": 1,
   "metadata": {},
   "outputs": [],
   "source": [
    "#Carga de Librerias\n",
    "#pandas Visualizacion de datos\n",
    "#numpy Analisis matematico y cientifico de datos {arrays}\n",
    "import numpy as np\n",
    "import pandas as pd\n",
    "pd.options.mode.chained_assignment = None  # Suprimir Warnings\n",
    "##Librerias para el algoritmo\n",
    "from kmodes.kmodes import KModes\n",
    "##Libreria para la grafica\n",
    "import matplotlib.pyplot as plt\n",
    "%matplotlib inline\n",
    "import seaborn as sns\n",
    "##Para el manejo de las fechas\n",
    "from datetime import datetime\n",
    "##Para el procesamiento de los datos\n",
    "from sklearn import preprocessing"
   ]
  },
  {
   "cell_type": "code",
   "execution_count": 2,
   "metadata": {},
   "outputs": [],
   "source": [
    "#Carga del dataset y Visualizacion de datos\n",
    "df=pd.read_csv('C:/Users/PC/Desktop/Tesis/Practicum4_SistemasInteligentes_UTPL/DataSet/Dataset.csv',encoding='ISO-8859-1')"
   ]
  },
  {
   "cell_type": "code",
   "execution_count": 3,
   "metadata": {},
   "outputs": [],
   "source": [
    "#Renombrar Columnas para mas facil tratamiento del dataset\n",
    "df.rename(columns={'case_in_country':'caseInCountry','reporting date': 'reportingDate','symptom_onset':'symptomOnset', 'hosp_visit_date':'hospVisitDate','exposure_start':'exposureStart','exposure_end':'exposureEnd','visiting Wuhan': 'visitingWuhan','from Wuhan': 'fromWuhan'}, inplace=True)"
   ]
  },
  {
   "cell_type": "code",
   "execution_count": 4,
   "metadata": {},
   "outputs": [],
   "source": [
    "# Validacion del dataframe\n",
    "#df.shape ##Numero de registros y de columnas\n",
    "#df.describe() ##De manera general podemos ver el numero de registros, media, varianza, etc., de las columnas\n",
    "##df.info() ##Vemos los tipos de datos de las columnas\n",
    "#Observaciones exposure start y expusure end pueden eliminarse?"
   ]
  },
  {
   "cell_type": "code",
   "execution_count": 5,
   "metadata": {},
   "outputs": [],
   "source": [
    "#Eliminar del dataser los datos vacios de las columnas genero y edad.\n",
    "df=df[(df[\"gender\"].notnull())&(df[\"age\"].notnull())]"
   ]
  },
  {
   "cell_type": "code",
   "execution_count": 6,
   "metadata": {},
   "outputs": [],
   "source": [
    "#Hacemos Datos Categoricos a la columna genero [gender] femenino =2, hombre = 1\n",
    "df['gender'].replace(['female','male'],[2,1],inplace=True)"
   ]
  },
  {
   "cell_type": "code",
   "execution_count": 7,
   "metadata": {},
   "outputs": [],
   "source": [
    "# Agrupar la columna edad para una mejor comprension de los datos\n",
    "df['ageAgru'] = pd.cut(df['age'], [0, 20, 30, 40, 50, 60, 70, 80, 90, 100], \n",
    "labels=['0-20','20-30','30-40','40-50','50-60','60-70','70-80','80-90','90-100'])"
   ]
  },
  {
   "cell_type": "code",
   "execution_count": 8,
   "metadata": {},
   "outputs": [],
   "source": [
    "#Eliminar Columna age por que ya se agrupo\n",
    "df  = df.drop('age',axis = 1)"
   ]
  },
  {
   "cell_type": "code",
   "execution_count": 9,
   "metadata": {},
   "outputs": [],
   "source": [
    "#Desglosar Symptom\n",
    "#Columna 1\n",
    "df[\"fever\"]=((df[\"symptom\"].str.contains('fever',na=False,regex=False))*1)"
   ]
  },
  {
   "cell_type": "code",
   "execution_count": 10,
   "metadata": {},
   "outputs": [],
   "source": [
    "#Agregar columna 2\n",
    "df[\"cough\"]=((df[\"symptom\"].str.contains('cough',na=False,regex=False))*1)"
   ]
  },
  {
   "cell_type": "code",
   "execution_count": 11,
   "metadata": {},
   "outputs": [],
   "source": [
    "#Agregar columna 3\n",
    "df[\"vomiting_nausea_fatigue\"]=((df[\"symptom\"].str.contains('vomiting|nausea|fatigue',na=False,regex=True))*1)"
   ]
  },
  {
   "cell_type": "code",
   "execution_count": 12,
   "metadata": {},
   "outputs": [],
   "source": [
    "##Agregar columna 4\n",
    "df[\"difficultBreathing_respiratoryDistress\"]=(df[\"symptom\"].str.contains('breath|distress',na=False,regex=True))*1"
   ]
  },
  {
   "cell_type": "code",
   "execution_count": 13,
   "metadata": {},
   "outputs": [],
   "source": [
    "##Agregar columna 5\n",
    "df[\"headache_heavyHead\"]=((df[\"symptom\"].str.contains('head',na=False,regex=False))*1)"
   ]
  },
  {
   "cell_type": "code",
   "execution_count": 14,
   "metadata": {},
   "outputs": [],
   "source": [
    "##Agregar columna 6\n",
    "df[\"throat\"]=((df[\"symptom\"].str.contains('throat',na=False,regex=False))*1)"
   ]
  },
  {
   "cell_type": "code",
   "execution_count": 15,
   "metadata": {},
   "outputs": [],
   "source": [
    "##Agregar columna 7\n",
    "df[\"chill_cold\"]=((df[\"symptom\"].str.contains('chill|cold',na=False, regex=True))*1)"
   ]
  },
  {
   "cell_type": "code",
   "execution_count": 16,
   "metadata": {},
   "outputs": [],
   "source": [
    "##Agregar columna 8\n",
    "df[\"otherSymptom\"]=((df[\"symptom\"].str.contains('joint|runny|diarrhea|abdominal|pneumonia|loss|malaise|sputum|muscle|breathlessness|dyspnea|loss|nasal|mild|sneeze|chest|thirst|flu|cramps|aching|body|aches|reflux|physical|tired|myalgias',na=False,regex=True))*1)"
   ]
  },
  {
   "cell_type": "code",
   "execution_count": 17,
   "metadata": {},
   "outputs": [],
   "source": [
    "##Crear Columna Asintomatico\n",
    "df[\"asymptomatic\"]=((df[\"symptom\"].str.contains('SinSintomas',na=True,regex=True))*1)"
   ]
  },
  {
   "cell_type": "code",
   "execution_count": 18,
   "metadata": {},
   "outputs": [],
   "source": [
    "#df.head()"
   ]
  },
  {
   "cell_type": "code",
   "execution_count": 19,
   "metadata": {},
   "outputs": [],
   "source": [
    "#Eliminacion columna desglosada\n",
    "df.drop(['symptom'], axis=1, inplace=True)"
   ]
  },
  {
   "cell_type": "code",
   "execution_count": 21,
   "metadata": {},
   "outputs": [],
   "source": []
  },
  {
   "cell_type": "code",
   "execution_count": 22,
   "metadata": {},
   "outputs": [
    {
     "ename": "KeyError",
     "evalue": "\"None of [Index(['id', 'death'], dtype='object')] are in the [columns]\"",
     "output_type": "error",
     "traceback": [
      "\u001b[1;31m---------------------------------------------------------------------------\u001b[0m",
      "\u001b[1;31mKeyError\u001b[0m                                  Traceback (most recent call last)",
      "\u001b[1;32m<ipython-input-22-78f82807f04b>\u001b[0m in \u001b[0;36m<module>\u001b[1;34m\u001b[0m\n\u001b[0;32m      1\u001b[0m \u001b[1;31m#***Seleccionar las columnas ['country'] y ['ageAgru'] para trabajarlas en un nuevo dataframe***\u001b[0m\u001b[1;33m\u001b[0m\u001b[1;33m\u001b[0m\u001b[1;33m\u001b[0m\u001b[0m\n\u001b[1;32m----> 2\u001b[1;33m \u001b[0mdfTemporal\u001b[0m \u001b[1;33m=\u001b[0m \u001b[0mdf\u001b[0m\u001b[1;33m[\u001b[0m\u001b[1;33m[\u001b[0m\u001b[1;34m'id'\u001b[0m\u001b[1;33m,\u001b[0m\u001b[1;34m'death'\u001b[0m\u001b[1;33m]\u001b[0m\u001b[1;33m]\u001b[0m\u001b[1;33m\u001b[0m\u001b[1;33m\u001b[0m\u001b[0m\n\u001b[0m",
      "\u001b[1;32mC:\\Program Files\\Anaconda\\lib\\site-packages\\pandas\\core\\frame.py\u001b[0m in \u001b[0;36m__getitem__\u001b[1;34m(self, key)\u001b[0m\n\u001b[0;32m   2804\u001b[0m             \u001b[1;32mif\u001b[0m \u001b[0mis_iterator\u001b[0m\u001b[1;33m(\u001b[0m\u001b[0mkey\u001b[0m\u001b[1;33m)\u001b[0m\u001b[1;33m:\u001b[0m\u001b[1;33m\u001b[0m\u001b[1;33m\u001b[0m\u001b[0m\n\u001b[0;32m   2805\u001b[0m                 \u001b[0mkey\u001b[0m \u001b[1;33m=\u001b[0m \u001b[0mlist\u001b[0m\u001b[1;33m(\u001b[0m\u001b[0mkey\u001b[0m\u001b[1;33m)\u001b[0m\u001b[1;33m\u001b[0m\u001b[1;33m\u001b[0m\u001b[0m\n\u001b[1;32m-> 2806\u001b[1;33m             \u001b[0mindexer\u001b[0m \u001b[1;33m=\u001b[0m \u001b[0mself\u001b[0m\u001b[1;33m.\u001b[0m\u001b[0mloc\u001b[0m\u001b[1;33m.\u001b[0m\u001b[0m_get_listlike_indexer\u001b[0m\u001b[1;33m(\u001b[0m\u001b[0mkey\u001b[0m\u001b[1;33m,\u001b[0m \u001b[0maxis\u001b[0m\u001b[1;33m=\u001b[0m\u001b[1;36m1\u001b[0m\u001b[1;33m,\u001b[0m \u001b[0mraise_missing\u001b[0m\u001b[1;33m=\u001b[0m\u001b[1;32mTrue\u001b[0m\u001b[1;33m)\u001b[0m\u001b[1;33m[\u001b[0m\u001b[1;36m1\u001b[0m\u001b[1;33m]\u001b[0m\u001b[1;33m\u001b[0m\u001b[1;33m\u001b[0m\u001b[0m\n\u001b[0m\u001b[0;32m   2807\u001b[0m \u001b[1;33m\u001b[0m\u001b[0m\n\u001b[0;32m   2808\u001b[0m         \u001b[1;31m# take() does not accept boolean indexers\u001b[0m\u001b[1;33m\u001b[0m\u001b[1;33m\u001b[0m\u001b[1;33m\u001b[0m\u001b[0m\n",
      "\u001b[1;32mC:\\Program Files\\Anaconda\\lib\\site-packages\\pandas\\core\\indexing.py\u001b[0m in \u001b[0;36m_get_listlike_indexer\u001b[1;34m(self, key, axis, raise_missing)\u001b[0m\n\u001b[0;32m   1550\u001b[0m \u001b[1;33m\u001b[0m\u001b[0m\n\u001b[0;32m   1551\u001b[0m         self._validate_read_indexer(\n\u001b[1;32m-> 1552\u001b[1;33m             \u001b[0mkeyarr\u001b[0m\u001b[1;33m,\u001b[0m \u001b[0mindexer\u001b[0m\u001b[1;33m,\u001b[0m \u001b[0mo\u001b[0m\u001b[1;33m.\u001b[0m\u001b[0m_get_axis_number\u001b[0m\u001b[1;33m(\u001b[0m\u001b[0maxis\u001b[0m\u001b[1;33m)\u001b[0m\u001b[1;33m,\u001b[0m \u001b[0mraise_missing\u001b[0m\u001b[1;33m=\u001b[0m\u001b[0mraise_missing\u001b[0m\u001b[1;33m\u001b[0m\u001b[1;33m\u001b[0m\u001b[0m\n\u001b[0m\u001b[0;32m   1553\u001b[0m         )\n\u001b[0;32m   1554\u001b[0m         \u001b[1;32mreturn\u001b[0m \u001b[0mkeyarr\u001b[0m\u001b[1;33m,\u001b[0m \u001b[0mindexer\u001b[0m\u001b[1;33m\u001b[0m\u001b[1;33m\u001b[0m\u001b[0m\n",
      "\u001b[1;32mC:\\Program Files\\Anaconda\\lib\\site-packages\\pandas\\core\\indexing.py\u001b[0m in \u001b[0;36m_validate_read_indexer\u001b[1;34m(self, key, indexer, axis, raise_missing)\u001b[0m\n\u001b[0;32m   1637\u001b[0m             \u001b[1;32mif\u001b[0m \u001b[0mmissing\u001b[0m \u001b[1;33m==\u001b[0m \u001b[0mlen\u001b[0m\u001b[1;33m(\u001b[0m\u001b[0mindexer\u001b[0m\u001b[1;33m)\u001b[0m\u001b[1;33m:\u001b[0m\u001b[1;33m\u001b[0m\u001b[1;33m\u001b[0m\u001b[0m\n\u001b[0;32m   1638\u001b[0m                 \u001b[0maxis_name\u001b[0m \u001b[1;33m=\u001b[0m \u001b[0mself\u001b[0m\u001b[1;33m.\u001b[0m\u001b[0mobj\u001b[0m\u001b[1;33m.\u001b[0m\u001b[0m_get_axis_name\u001b[0m\u001b[1;33m(\u001b[0m\u001b[0maxis\u001b[0m\u001b[1;33m)\u001b[0m\u001b[1;33m\u001b[0m\u001b[1;33m\u001b[0m\u001b[0m\n\u001b[1;32m-> 1639\u001b[1;33m                 \u001b[1;32mraise\u001b[0m \u001b[0mKeyError\u001b[0m\u001b[1;33m(\u001b[0m\u001b[1;34mf\"None of [{key}] are in the [{axis_name}]\"\u001b[0m\u001b[1;33m)\u001b[0m\u001b[1;33m\u001b[0m\u001b[1;33m\u001b[0m\u001b[0m\n\u001b[0m\u001b[0;32m   1640\u001b[0m \u001b[1;33m\u001b[0m\u001b[0m\n\u001b[0;32m   1641\u001b[0m             \u001b[1;31m# We (temporarily) allow for some missing keys with .loc, except in\u001b[0m\u001b[1;33m\u001b[0m\u001b[1;33m\u001b[0m\u001b[1;33m\u001b[0m\u001b[0m\n",
      "\u001b[1;31mKeyError\u001b[0m: \"None of [Index(['id', 'death'], dtype='object')] are in the [columns]\""
     ]
    }
   ],
   "source": [
    "#Seleccionar las columnas ['country'] y ['ageAgru'] para trabajarlas en un nuevo dataframe\n",
    "dfTemporal = df[['country','ageAgru']]"
   ]
  },
  {
   "cell_type": "code",
   "execution_count": null,
   "metadata": {},
   "outputs": [],
   "source": [
    "# Eliminar las columnas Copiadas en el dataframe\n",
    "df.drop(['country','ageAgru'], axis=1, inplace=True)"
   ]
  },
  {
   "cell_type": "code",
   "execution_count": null,
   "metadata": {},
   "outputs": [],
   "source": [
    "#Hacer datos Categoricos las columnas 'country' y 'ageAgru' en el dataframe dfCategorical\n",
    "le = preprocessing.LabelEncoder()\n",
    "dfTemporal = dfTemporal.apply(le.fit_transform)"
   ]
  },
  {
   "cell_type": "code",
   "execution_count": null,
   "metadata": {},
   "outputs": [],
   "source": [
    "##Unir el dataframe temporal con el dataframe original\n",
    "df = pd.concat([df, dfTemporal], axis=1)\n",
    "df.head()"
   ]
  },
  {
   "cell_type": "code",
   "execution_count": null,
   "metadata": {},
   "outputs": [],
   "source": [
    "##Sacar una copia del dataframe\n",
    "dfCopy = df.copy()"
   ]
  },
  {
   "cell_type": "code",
   "execution_count": null,
   "metadata": {},
   "outputs": [],
   "source": [
    "##Seleccionamos del dataframe unicamente las columnas categoricas para aplicar el algoritmo Kmeans\n",
    "df = df[['gender','visitingWuhan','fromWuhan','death','recovered','fever','cough','vomiting_nausea_fatigue','difficultBreathing_respiratoryDistress','headache_heavyHead','throat','chill_cold','otherSymptom','asymptomatic','country','ageAgru']]"
   ]
  },
  {
   "cell_type": "code",
   "execution_count": null,
   "metadata": {},
   "outputs": [],
   "source": [
    "#Visualizacion del dataframe\n",
    "df.head()"
   ]
  },
  {
   "cell_type": "code",
   "execution_count": null,
   "metadata": {},
   "outputs": [],
   "source": [
    "#Determinar el valor optimo de K usando el metodo Elbow\n",
    "sse = []\n",
    "for num_clusters in list(range(1,5)):\n",
    "    kmode = KModes(n_clusters=num_clusters, init = \"Cao\", n_init = 1, verbose=1)\n",
    "    kmode.fit_predict(df)\n",
    "    sse.append(kmode.cost_)"
   ]
  },
  {
   "cell_type": "code",
   "execution_count": null,
   "metadata": {},
   "outputs": [],
   "source": [
    "#Grafico\n",
    "y = np.array([i for i in range(1,5,1)])\n",
    "plt.xlabel('Número de clústeres * k *')\n",
    "plt.ylabel('Suma de la distancia al cuadrado')\n",
    "plt.plot(y,sse)"
   ]
  },
  {
   "cell_type": "code",
   "execution_count": null,
   "metadata": {},
   "outputs": [],
   "source": [
    "# Aplicar el algoritmo de K-Modes  con el valor de K=2\n",
    "km_cao = KModes(n_clusters=2, init = \"Cao\", n_init = 1, verbose=1)\n",
    "fitClusters_cao = km_cao.fit_predict(df)"
   ]
  },
  {
   "cell_type": "code",
   "execution_count": null,
   "metadata": {},
   "outputs": [],
   "source": [
    "fitClusters_cao"
   ]
  },
  {
   "cell_type": "code",
   "execution_count": null,
   "metadata": {},
   "outputs": [],
   "source": [
    "# Combinando el arreglo analizado con el DF original\n",
    "df=dfCopy.reset_index()"
   ]
  },
  {
   "cell_type": "code",
   "execution_count": null,
   "metadata": {},
   "outputs": [],
   "source": [
    "df.head()"
   ]
  },
  {
   "cell_type": "code",
   "execution_count": null,
   "metadata": {},
   "outputs": [],
   "source": [
    "dfClusterizado = pd.DataFrame(fitClusters_cao)\n",
    "dfClusterizado.columns = ['cluster_analizado']\n",
    "dfNuevo = pd.concat([df, dfClusterizado], axis = 1).reset_index()\n",
    "dfNuevo = dfNuevo.drop(['index', 'level_0'], axis = 1)"
   ]
  },
  {
   "cell_type": "code",
   "execution_count": null,
   "metadata": {},
   "outputs": [],
   "source": [
    "dfNuevo[300:310]"
   ]
  },
  {
   "cell_type": "code",
   "execution_count": null,
   "metadata": {},
   "outputs": [],
   "source": [
    "# Validacion del dataframe\n",
    "#dfNuevo.shape ##Numero de registros y de columnas\n",
    "#df.describe() ##De manera general podemos ver el numero de registros, media, varianza, etc., de las columnas\n",
    "##df.info() ##Vemos los tipos de datos de las columnas\n",
    "dfNuevo.to_csv('C:/Users/PC/Desktop/Prueba/Prueba.csv') ##Exportar DataFrame"
   ]
  },
  {
   "cell_type": "code",
   "execution_count": null,
   "metadata": {},
   "outputs": [],
   "source": [
    "#Identificación de clústeres\n",
    "cluster_0 = dfNuevo[dfNuevo['cluster_analizado'] == 0]\n",
    "cluster_1 = dfNuevo[dfNuevo['cluster_analizado'] == 1]"
   ]
  },
  {
   "cell_type": "code",
   "execution_count": null,
   "metadata": {},
   "outputs": [],
   "source": [
    "cluster_0.info()"
   ]
  },
  {
   "cell_type": "code",
   "execution_count": null,
   "metadata": {},
   "outputs": [],
   "source": [
    "cluster_1.info()"
   ]
  },
  {
   "cell_type": "code",
   "execution_count": null,
   "metadata": {},
   "outputs": [],
   "source": [
    "#Grafico Grupo de Sintomas 1\n",
    "f, axs = plt.subplots(1,5,figsize = (15,5))\n",
    "sns.countplot(x=dfNuevo['fever'],order=dfNuevo['fever'].value_counts().index,hue=dfNuevo['cluster_analizado'],ax=axs[0])\n",
    "sns.countplot(x=dfNuevo['cough'],order=dfNuevo['cough'].value_counts().index,hue=dfNuevo['cluster_analizado'],ax=axs[1])\n",
    "sns.countplot(x=dfNuevo['vomiting_nausea_fatigue'],order=dfNuevo['vomiting_nausea_fatigue'].value_counts().index,hue=dfNuevo['cluster_analizado'],ax=axs[2])\n",
    "sns.countplot(x=dfNuevo['difficultBreathing_respiratoryDistress'],order=dfNuevo['difficultBreathing_respiratoryDistress'].value_counts().index,hue=dfNuevo['cluster_analizado'],ax=axs[3])\n",
    "sns.countplot(x=dfNuevo['headache_heavyHead'],order=dfNuevo['headache_heavyHead'].value_counts().index,hue=dfNuevo['cluster_analizado'],ax=axs[4])\n",
    "\n",
    "plt.tight_layout()\n",
    "plt.show()"
   ]
  },
  {
   "cell_type": "code",
   "execution_count": null,
   "metadata": {},
   "outputs": [],
   "source": [
    "#Grafico Grupo de Sintomas 2\n",
    "f, axs = plt.subplots(1,4,figsize = (15,5))\n",
    "sns.countplot(x=dfNuevo['throat'],order=dfNuevo['throat'].value_counts().index,hue=dfNuevo['cluster_analizado'],ax=axs[0])\n",
    "sns.countplot(x=dfNuevo['chill_cold'],order=dfNuevo['chill_cold'].value_counts().index,hue=dfNuevo['cluster_analizado'],ax=axs[1])\n",
    "sns.countplot(x=dfNuevo['otherSymptom'],order=dfNuevo['otherSymptom'].value_counts().index,hue=dfNuevo['cluster_analizado'],ax=axs[2])\n",
    "sns.countplot(x=dfNuevo['asymptomatic'],order=dfNuevo['asymptomatic'].value_counts().index,hue=dfNuevo['cluster_analizado'],ax=axs[3])\n",
    "\n",
    "plt.tight_layout()\n",
    "plt.show()"
   ]
  },
  {
   "cell_type": "code",
   "execution_count": null,
   "metadata": {},
   "outputs": [],
   "source": [
    "##Fin"
   ]
  }
 ],
 "metadata": {
  "kernelspec": {
   "display_name": "Python 3",
   "language": "python",
   "name": "python3"
  },
  "language_info": {
   "codemirror_mode": {
    "name": "ipython",
    "version": 3
   },
   "file_extension": ".py",
   "mimetype": "text/x-python",
   "name": "python",
   "nbconvert_exporter": "python",
   "pygments_lexer": "ipython3",
   "version": "3.7.6"
  }
 },
 "nbformat": 4,
 "nbformat_minor": 4
}
